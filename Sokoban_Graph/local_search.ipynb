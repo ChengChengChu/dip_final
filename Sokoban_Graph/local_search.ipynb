{
 "cells": [
  {
   "cell_type": "markdown",
   "metadata": {},
   "source": [
    "# Local Search Example"
   ]
  },
  {
   "cell_type": "code",
   "execution_count": null,
   "metadata": {},
   "outputs": [],
   "source": [
    "# Copyright (c) 2024 Microsoft Corporation.\n",
    "# Licensed under the MIT License."
   ]
  },
  {
   "cell_type": "code",
   "execution_count": 11,
   "metadata": {},
   "outputs": [
    {
     "data": {
      "text/plain": [
       "True"
      ]
     },
     "execution_count": 11,
     "metadata": {},
     "output_type": "execute_result"
    }
   ],
   "source": [
    "\n",
    "import os\n",
    "\n",
    "import pandas as pd\n",
    "import tiktoken\n",
    "\n",
    "from graphrag.query.context_builder.entity_extraction import EntityVectorStoreKey\n",
    "from graphrag.query.indexer_adapters import (\n",
    "    read_indexer_entities,\n",
    "    read_indexer_relationships,\n",
    "    read_indexer_reports,\n",
    "    read_indexer_text_units,\n",
    ")\n",
    "from graphrag.query.input.loaders.dfs import (\n",
    "    store_entity_semantic_embeddings,\n",
    ")\n",
    "from graphrag.query.llm.oai.chat_openai import ChatOpenAI\n",
    "from graphrag.query.llm.oai.embedding import OpenAIEmbedding\n",
    "from graphrag.query.llm.oai.typing import OpenaiApiType\n",
    "from graphrag.query.question_gen.local_gen import LocalQuestionGen\n",
    "from graphrag.query.structured_search.local_search.mixed_context import (\n",
    "    LocalSearchMixedContext,\n",
    ")\n",
    "from graphrag.query.structured_search.local_search.search import LocalSearch\n",
    "from graphrag.vector_stores.lancedb import LanceDBVectorStore\n",
    "\n",
    "from dotenv import load_dotenv\n",
    "load_dotenv()"
   ]
  },
  {
   "cell_type": "markdown",
   "metadata": {},
   "source": [
    "# LanceDB(default)"
   ]
  },
  {
   "cell_type": "markdown",
   "metadata": {},
   "source": [
    "## load table"
   ]
  },
  {
   "cell_type": "code",
   "execution_count": 4,
   "metadata": {},
   "outputs": [],
   "source": [
    "INPUT_DIR = \"./output/20240824-194226/artifacts\"\n",
    "LANCEDB_URI = f\"{INPUT_DIR}/lancedb\"\n",
    "\n",
    "COMMUNITY_REPORT_TABLE = \"create_final_community_reports\"\n",
    "COMMUNITIES_REPORT_TABLE = \"create_final_communities\"\n",
    "ENTITY_TABLE = \"create_final_nodes\"\n",
    "ENTITY_EMBEDDING_TABLE = \"create_final_entities\"\n",
    "RELATIONSHIP_TABLE = \"create_final_relationships\"\n",
    "COVARIATE_TABLE = \"create_final_covariates\"\n",
    "TEXT_UNIT_TABLE = \"create_final_text_units\"\n",
    "COMMUNITY_LEVEL = 2"
   ]
  },
  {
   "cell_type": "markdown",
   "metadata": {},
   "source": [
    "## read entities"
   ]
  },
  {
   "cell_type": "code",
   "execution_count": 5,
   "metadata": {},
   "outputs": [
    {
     "name": "stdout",
     "output_type": "stream",
     "text": [
      "Entity count: 39\n"
     ]
    },
    {
     "data": {
      "text/html": [
       "<div>\n",
       "<style scoped>\n",
       "    .dataframe tbody tr th:only-of-type {\n",
       "        vertical-align: middle;\n",
       "    }\n",
       "\n",
       "    .dataframe tbody tr th {\n",
       "        vertical-align: top;\n",
       "    }\n",
       "\n",
       "    .dataframe thead th {\n",
       "        text-align: right;\n",
       "    }\n",
       "</style>\n",
       "<table border=\"1\" class=\"dataframe\">\n",
       "  <thead>\n",
       "    <tr style=\"text-align: right;\">\n",
       "      <th></th>\n",
       "      <th>level</th>\n",
       "      <th>title</th>\n",
       "      <th>type</th>\n",
       "      <th>description</th>\n",
       "      <th>source_id</th>\n",
       "      <th>community</th>\n",
       "      <th>degree</th>\n",
       "      <th>human_readable_id</th>\n",
       "      <th>id</th>\n",
       "      <th>size</th>\n",
       "      <th>graph_embedding</th>\n",
       "      <th>entity_type</th>\n",
       "      <th>top_level_node_id</th>\n",
       "      <th>x</th>\n",
       "      <th>y</th>\n",
       "    </tr>\n",
       "  </thead>\n",
       "  <tbody>\n",
       "    <tr>\n",
       "      <th>0</th>\n",
       "      <td>0</td>\n",
       "      <td>SOKOBAN</td>\n",
       "      <td>OBJECT</td>\n",
       "      <td>The \"SOKOBAN\" is an object that serves as the ...</td>\n",
       "      <td>47429b83e588f06c43d4cc792a75379f,5211048d32705...</td>\n",
       "      <td>1</td>\n",
       "      <td>9</td>\n",
       "      <td>0</td>\n",
       "      <td>b45241d70f0e43fca764df95b2b81f77</td>\n",
       "      <td>9</td>\n",
       "      <td>None</td>\n",
       "      <td>None</td>\n",
       "      <td>b45241d70f0e43fca764df95b2b81f77</td>\n",
       "      <td>0</td>\n",
       "      <td>0</td>\n",
       "    </tr>\n",
       "    <tr>\n",
       "      <th>1</th>\n",
       "      <td>0</td>\n",
       "      <td>CRATE</td>\n",
       "      <td>OBJECT</td>\n",
       "      <td>The \"CRATE\" is an object within the sokoban ga...</td>\n",
       "      <td>47429b83e588f06c43d4cc792a75379f,5211048d32705...</td>\n",
       "      <td>3</td>\n",
       "      <td>5</td>\n",
       "      <td>1</td>\n",
       "      <td>4119fd06010c494caa07f439b333f4c5</td>\n",
       "      <td>5</td>\n",
       "      <td>None</td>\n",
       "      <td>None</td>\n",
       "      <td>4119fd06010c494caa07f439b333f4c5</td>\n",
       "      <td>0</td>\n",
       "      <td>0</td>\n",
       "    </tr>\n",
       "    <tr>\n",
       "      <th>2</th>\n",
       "      <td>0</td>\n",
       "      <td>LOCATION X</td>\n",
       "      <td>LOCATION</td>\n",
       "      <td>Location x is a position in the game where the...</td>\n",
       "      <td>5211048d327058bc6a44c679ae895263</td>\n",
       "      <td>2</td>\n",
       "      <td>2</td>\n",
       "      <td>2</td>\n",
       "      <td>d3835bf3dda84ead99deadbeac5d0d7d</td>\n",
       "      <td>2</td>\n",
       "      <td>None</td>\n",
       "      <td>None</td>\n",
       "      <td>d3835bf3dda84ead99deadbeac5d0d7d</td>\n",
       "      <td>0</td>\n",
       "      <td>0</td>\n",
       "    </tr>\n",
       "    <tr>\n",
       "      <th>3</th>\n",
       "      <td>0</td>\n",
       "      <td>LOCATION Y</td>\n",
       "      <td>LOCATION</td>\n",
       "      <td>Location y is a position in the game where the...</td>\n",
       "      <td>5211048d327058bc6a44c679ae895263</td>\n",
       "      <td>2</td>\n",
       "      <td>6</td>\n",
       "      <td>3</td>\n",
       "      <td>077d2820ae1845bcbb1803379a3d1eae</td>\n",
       "      <td>6</td>\n",
       "      <td>None</td>\n",
       "      <td>None</td>\n",
       "      <td>077d2820ae1845bcbb1803379a3d1eae</td>\n",
       "      <td>0</td>\n",
       "      <td>0</td>\n",
       "    </tr>\n",
       "    <tr>\n",
       "      <th>4</th>\n",
       "      <td>0</td>\n",
       "      <td>LOCATION Z</td>\n",
       "      <td>LOCATION</td>\n",
       "      <td>Location z is a target position in the game wh...</td>\n",
       "      <td>5211048d327058bc6a44c679ae895263</td>\n",
       "      <td>2</td>\n",
       "      <td>4</td>\n",
       "      <td>4</td>\n",
       "      <td>3671ea0dd4e84c1a9b02c5ab2c8f4bac</td>\n",
       "      <td>4</td>\n",
       "      <td>None</td>\n",
       "      <td>None</td>\n",
       "      <td>3671ea0dd4e84c1a9b02c5ab2c8f4bac</td>\n",
       "      <td>0</td>\n",
       "      <td>0</td>\n",
       "    </tr>\n",
       "  </tbody>\n",
       "</table>\n",
       "</div>"
      ],
      "text/plain": [
       "   level       title      type  \\\n",
       "0      0     SOKOBAN    OBJECT   \n",
       "1      0       CRATE    OBJECT   \n",
       "2      0  LOCATION X  LOCATION   \n",
       "3      0  LOCATION Y  LOCATION   \n",
       "4      0  LOCATION Z  LOCATION   \n",
       "\n",
       "                                         description  \\\n",
       "0  The \"SOKOBAN\" is an object that serves as the ...   \n",
       "1  The \"CRATE\" is an object within the sokoban ga...   \n",
       "2  Location x is a position in the game where the...   \n",
       "3  Location y is a position in the game where the...   \n",
       "4  Location z is a target position in the game wh...   \n",
       "\n",
       "                                           source_id community  degree  \\\n",
       "0  47429b83e588f06c43d4cc792a75379f,5211048d32705...         1       9   \n",
       "1  47429b83e588f06c43d4cc792a75379f,5211048d32705...         3       5   \n",
       "2                   5211048d327058bc6a44c679ae895263         2       2   \n",
       "3                   5211048d327058bc6a44c679ae895263         2       6   \n",
       "4                   5211048d327058bc6a44c679ae895263         2       4   \n",
       "\n",
       "   human_readable_id                                id  size graph_embedding  \\\n",
       "0                  0  b45241d70f0e43fca764df95b2b81f77     9            None   \n",
       "1                  1  4119fd06010c494caa07f439b333f4c5     5            None   \n",
       "2                  2  d3835bf3dda84ead99deadbeac5d0d7d     2            None   \n",
       "3                  3  077d2820ae1845bcbb1803379a3d1eae     6            None   \n",
       "4                  4  3671ea0dd4e84c1a9b02c5ab2c8f4bac     4            None   \n",
       "\n",
       "  entity_type                 top_level_node_id  x  y  \n",
       "0        None  b45241d70f0e43fca764df95b2b81f77  0  0  \n",
       "1        None  4119fd06010c494caa07f439b333f4c5  0  0  \n",
       "2        None  d3835bf3dda84ead99deadbeac5d0d7d  0  0  \n",
       "3        None  077d2820ae1845bcbb1803379a3d1eae  0  0  \n",
       "4        None  3671ea0dd4e84c1a9b02c5ab2c8f4bac  0  0  "
      ]
     },
     "execution_count": 5,
     "metadata": {},
     "output_type": "execute_result"
    }
   ],
   "source": [
    "# read nodes table to get community and degree data\n",
    "entity_df = pd.read_parquet(f\"{INPUT_DIR}/{ENTITY_TABLE}.parquet\")\n",
    "entity_embedding_df = pd.read_parquet(f\"{INPUT_DIR}/{ENTITY_EMBEDDING_TABLE}.parquet\")\n",
    "\n",
    "entities = read_indexer_entities(entity_df, entity_embedding_df, COMMUNITY_LEVEL)\n",
    "\n",
    "# load description embeddings to an in-memory lancedb vectorstore\n",
    "# to connect to a remote db, specify url and port values.\n",
    "description_embedding_store = LanceDBVectorStore(\n",
    "    collection_name=\"entity_description_embeddings\",\n",
    ")\n",
    "description_embedding_store.connect(db_uri=LANCEDB_URI)\n",
    "entity_description_embeddings = store_entity_semantic_embeddings(\n",
    "    entities=entities, vectorstore=description_embedding_store\n",
    ")\n",
    "\n",
    "print(f\"Entity count: {len(entity_df)}\")\n",
    "entity_df.head()"
   ]
  },
  {
   "cell_type": "markdown",
   "metadata": {},
   "source": [
    "## Read relationships"
   ]
  },
  {
   "cell_type": "code",
   "execution_count": 6,
   "metadata": {},
   "outputs": [
    {
     "name": "stdout",
     "output_type": "stream",
     "text": [
      "Relationship count: 68\n"
     ]
    },
    {
     "data": {
      "text/html": [
       "<div>\n",
       "<style scoped>\n",
       "    .dataframe tbody tr th:only-of-type {\n",
       "        vertical-align: middle;\n",
       "    }\n",
       "\n",
       "    .dataframe tbody tr th {\n",
       "        vertical-align: top;\n",
       "    }\n",
       "\n",
       "    .dataframe thead th {\n",
       "        text-align: right;\n",
       "    }\n",
       "</style>\n",
       "<table border=\"1\" class=\"dataframe\">\n",
       "  <thead>\n",
       "    <tr style=\"text-align: right;\">\n",
       "      <th></th>\n",
       "      <th>source</th>\n",
       "      <th>target</th>\n",
       "      <th>weight</th>\n",
       "      <th>description</th>\n",
       "      <th>text_unit_ids</th>\n",
       "      <th>id</th>\n",
       "      <th>human_readable_id</th>\n",
       "      <th>source_degree</th>\n",
       "      <th>target_degree</th>\n",
       "      <th>rank</th>\n",
       "    </tr>\n",
       "  </thead>\n",
       "  <tbody>\n",
       "    <tr>\n",
       "      <th>0</th>\n",
       "      <td>SOKOBAN</td>\n",
       "      <td>CRATE</td>\n",
       "      <td>1.0</td>\n",
       "      <td>The sokoban is the character that interacts wi...</td>\n",
       "      <td>[5211048d327058bc6a44c679ae895263]</td>\n",
       "      <td>17ed1d92075643579a712cc6c29e8ddb</td>\n",
       "      <td>0</td>\n",
       "      <td>9</td>\n",
       "      <td>5</td>\n",
       "      <td>14</td>\n",
       "    </tr>\n",
       "    <tr>\n",
       "      <th>1</th>\n",
       "      <td>SOKOBAN</td>\n",
       "      <td>MOVELEFT</td>\n",
       "      <td>1.0</td>\n",
       "      <td>The action 'moveLeft' involves the sokoban as ...</td>\n",
       "      <td>[5211048d327058bc6a44c679ae895263]</td>\n",
       "      <td>3ce7c210a21b4deebad7cc9308148d86</td>\n",
       "      <td>1</td>\n",
       "      <td>9</td>\n",
       "      <td>3</td>\n",
       "      <td>12</td>\n",
       "    </tr>\n",
       "    <tr>\n",
       "      <th>2</th>\n",
       "      <td>SOKOBAN</td>\n",
       "      <td>MOVERIGHT</td>\n",
       "      <td>1.0</td>\n",
       "      <td>The action 'moveRight' involves the sokoban as...</td>\n",
       "      <td>[5211048d327058bc6a44c679ae895263]</td>\n",
       "      <td>d64ed762ea924caa95c8d06f072a9a96</td>\n",
       "      <td>2</td>\n",
       "      <td>9</td>\n",
       "      <td>3</td>\n",
       "      <td>12</td>\n",
       "    </tr>\n",
       "    <tr>\n",
       "      <th>3</th>\n",
       "      <td>SOKOBAN</td>\n",
       "      <td>MOVEUP</td>\n",
       "      <td>1.0</td>\n",
       "      <td>The action 'moveUp' involves the sokoban as th...</td>\n",
       "      <td>[5211048d327058bc6a44c679ae895263]</td>\n",
       "      <td>adf4ee3fbe9b4d0381044838c4f889c8</td>\n",
       "      <td>3</td>\n",
       "      <td>9</td>\n",
       "      <td>3</td>\n",
       "      <td>12</td>\n",
       "    </tr>\n",
       "    <tr>\n",
       "      <th>4</th>\n",
       "      <td>SOKOBAN</td>\n",
       "      <td>MOVEDOWN</td>\n",
       "      <td>1.0</td>\n",
       "      <td>The action 'moveDown' involves the sokoban as ...</td>\n",
       "      <td>[5211048d327058bc6a44c679ae895263]</td>\n",
       "      <td>32ee140946e5461f9275db664dc541a5</td>\n",
       "      <td>4</td>\n",
       "      <td>9</td>\n",
       "      <td>3</td>\n",
       "      <td>12</td>\n",
       "    </tr>\n",
       "  </tbody>\n",
       "</table>\n",
       "</div>"
      ],
      "text/plain": [
       "    source     target  weight  \\\n",
       "0  SOKOBAN      CRATE     1.0   \n",
       "1  SOKOBAN   MOVELEFT     1.0   \n",
       "2  SOKOBAN  MOVERIGHT     1.0   \n",
       "3  SOKOBAN     MOVEUP     1.0   \n",
       "4  SOKOBAN   MOVEDOWN     1.0   \n",
       "\n",
       "                                         description  \\\n",
       "0  The sokoban is the character that interacts wi...   \n",
       "1  The action 'moveLeft' involves the sokoban as ...   \n",
       "2  The action 'moveRight' involves the sokoban as...   \n",
       "3  The action 'moveUp' involves the sokoban as th...   \n",
       "4  The action 'moveDown' involves the sokoban as ...   \n",
       "\n",
       "                        text_unit_ids                                id  \\\n",
       "0  [5211048d327058bc6a44c679ae895263]  17ed1d92075643579a712cc6c29e8ddb   \n",
       "1  [5211048d327058bc6a44c679ae895263]  3ce7c210a21b4deebad7cc9308148d86   \n",
       "2  [5211048d327058bc6a44c679ae895263]  d64ed762ea924caa95c8d06f072a9a96   \n",
       "3  [5211048d327058bc6a44c679ae895263]  adf4ee3fbe9b4d0381044838c4f889c8   \n",
       "4  [5211048d327058bc6a44c679ae895263]  32ee140946e5461f9275db664dc541a5   \n",
       "\n",
       "  human_readable_id  source_degree  target_degree  rank  \n",
       "0                 0              9              5    14  \n",
       "1                 1              9              3    12  \n",
       "2                 2              9              3    12  \n",
       "3                 3              9              3    12  \n",
       "4                 4              9              3    12  "
      ]
     },
     "execution_count": 6,
     "metadata": {},
     "output_type": "execute_result"
    }
   ],
   "source": [
    "relationship_df = pd.read_parquet(f\"{INPUT_DIR}/{RELATIONSHIP_TABLE}.parquet\")\n",
    "relationships = read_indexer_relationships(relationship_df)\n",
    "\n",
    "print(f\"Relationship count: {len(relationship_df)}\")\n",
    "relationship_df.head()"
   ]
  },
  {
   "cell_type": "markdown",
   "metadata": {},
   "source": [
    "## Read community reports"
   ]
  },
  {
   "cell_type": "code",
   "execution_count": 8,
   "metadata": {},
   "outputs": [
    {
     "name": "stdout",
     "output_type": "stream",
     "text": [
      "Report records: 4\n"
     ]
    },
    {
     "data": {
      "text/html": [
       "<div>\n",
       "<style scoped>\n",
       "    .dataframe tbody tr th:only-of-type {\n",
       "        vertical-align: middle;\n",
       "    }\n",
       "\n",
       "    .dataframe tbody tr th {\n",
       "        vertical-align: top;\n",
       "    }\n",
       "\n",
       "    .dataframe thead th {\n",
       "        text-align: right;\n",
       "    }\n",
       "</style>\n",
       "<table border=\"1\" class=\"dataframe\">\n",
       "  <thead>\n",
       "    <tr style=\"text-align: right;\">\n",
       "      <th></th>\n",
       "      <th>community</th>\n",
       "      <th>full_content</th>\n",
       "      <th>level</th>\n",
       "      <th>rank</th>\n",
       "      <th>title</th>\n",
       "      <th>rank_explanation</th>\n",
       "      <th>summary</th>\n",
       "      <th>findings</th>\n",
       "      <th>full_content_json</th>\n",
       "      <th>id</th>\n",
       "    </tr>\n",
       "  </thead>\n",
       "  <tbody>\n",
       "    <tr>\n",
       "      <th>0</th>\n",
       "      <td>0</td>\n",
       "      <td># Sokoban Game Mechanics: Actions and Relation...</td>\n",
       "      <td>0</td>\n",
       "      <td>9.0</td>\n",
       "      <td>Sokoban Game Mechanics: Actions and Relationships</td>\n",
       "      <td>The rating reflects the significant impact of ...</td>\n",
       "      <td>The community surrounding the Sokoban game mec...</td>\n",
       "      <td>[{'explanation': 'The actions PUSHLEFT and PUS...</td>\n",
       "      <td>{\\n    \"title\": \"Sokoban Game Mechanics: Actio...</td>\n",
       "      <td>8a6f6a40-3b3b-438a-8c3c-a6c1dc25727a</td>\n",
       "    </tr>\n",
       "    <tr>\n",
       "      <th>1</th>\n",
       "      <td>1</td>\n",
       "      <td># Sokoban Game Dynamics: Actions and Spatial R...</td>\n",
       "      <td>0</td>\n",
       "      <td>9.0</td>\n",
       "      <td>Sokoban Game Dynamics: Actions and Spatial Rel...</td>\n",
       "      <td>The rating reflects the significant role of ga...</td>\n",
       "      <td>The community surrounding the Sokoban game is ...</td>\n",
       "      <td>[{'explanation': 'The sokoban character is the...</td>\n",
       "      <td>{\\n    \"title\": \"Sokoban Game Dynamics: Action...</td>\n",
       "      <td>304a21a2-5d96-4e9d-b1c9-8d64654eef4c</td>\n",
       "    </tr>\n",
       "    <tr>\n",
       "      <th>2</th>\n",
       "      <td>2</td>\n",
       "      <td># Sokoban Game Dynamics: Actions and Locations...</td>\n",
       "      <td>0</td>\n",
       "      <td>9.0</td>\n",
       "      <td>Sokoban Game Dynamics: Actions and Locations</td>\n",
       "      <td>The rating reflects the significant impact of ...</td>\n",
       "      <td>The community surrounding the Sokoban game is ...</td>\n",
       "      <td>[{'explanation': 'The actions 'moveLeft' and '...</td>\n",
       "      <td>{\\n    \"title\": \"Sokoban Game Dynamics: Action...</td>\n",
       "      <td>30bdac31-275d-454a-911c-aad57e7d3390</td>\n",
       "    </tr>\n",
       "    <tr>\n",
       "      <th>3</th>\n",
       "      <td>3</td>\n",
       "      <td># Sokoban Game Dynamics: Crates and Actions\\n\\...</td>\n",
       "      <td>0</td>\n",
       "      <td>9.5</td>\n",
       "      <td>Sokoban Game Dynamics: Crates and Actions</td>\n",
       "      <td>The rating reflects the high significance of u...</td>\n",
       "      <td>The community surrounding the Sokoban game is ...</td>\n",
       "      <td>[{'explanation': 'The sokoban character is the...</td>\n",
       "      <td>{\\n    \"title\": \"Sokoban Game Dynamics: Crates...</td>\n",
       "      <td>82d6d7f8-fb34-4aa4-a47d-58958f43dbc0</td>\n",
       "    </tr>\n",
       "  </tbody>\n",
       "</table>\n",
       "</div>"
      ],
      "text/plain": [
       "  community                                       full_content  level  rank  \\\n",
       "0         0  # Sokoban Game Mechanics: Actions and Relation...      0   9.0   \n",
       "1         1  # Sokoban Game Dynamics: Actions and Spatial R...      0   9.0   \n",
       "2         2  # Sokoban Game Dynamics: Actions and Locations...      0   9.0   \n",
       "3         3  # Sokoban Game Dynamics: Crates and Actions\\n\\...      0   9.5   \n",
       "\n",
       "                                               title  \\\n",
       "0  Sokoban Game Mechanics: Actions and Relationships   \n",
       "1  Sokoban Game Dynamics: Actions and Spatial Rel...   \n",
       "2       Sokoban Game Dynamics: Actions and Locations   \n",
       "3          Sokoban Game Dynamics: Crates and Actions   \n",
       "\n",
       "                                    rank_explanation  \\\n",
       "0  The rating reflects the significant impact of ...   \n",
       "1  The rating reflects the significant role of ga...   \n",
       "2  The rating reflects the significant impact of ...   \n",
       "3  The rating reflects the high significance of u...   \n",
       "\n",
       "                                             summary  \\\n",
       "0  The community surrounding the Sokoban game mec...   \n",
       "1  The community surrounding the Sokoban game is ...   \n",
       "2  The community surrounding the Sokoban game is ...   \n",
       "3  The community surrounding the Sokoban game is ...   \n",
       "\n",
       "                                            findings  \\\n",
       "0  [{'explanation': 'The actions PUSHLEFT and PUS...   \n",
       "1  [{'explanation': 'The sokoban character is the...   \n",
       "2  [{'explanation': 'The actions 'moveLeft' and '...   \n",
       "3  [{'explanation': 'The sokoban character is the...   \n",
       "\n",
       "                                   full_content_json  \\\n",
       "0  {\\n    \"title\": \"Sokoban Game Mechanics: Actio...   \n",
       "1  {\\n    \"title\": \"Sokoban Game Dynamics: Action...   \n",
       "2  {\\n    \"title\": \"Sokoban Game Dynamics: Action...   \n",
       "3  {\\n    \"title\": \"Sokoban Game Dynamics: Crates...   \n",
       "\n",
       "                                     id  \n",
       "0  8a6f6a40-3b3b-438a-8c3c-a6c1dc25727a  \n",
       "1  304a21a2-5d96-4e9d-b1c9-8d64654eef4c  \n",
       "2  30bdac31-275d-454a-911c-aad57e7d3390  \n",
       "3  82d6d7f8-fb34-4aa4-a47d-58958f43dbc0  "
      ]
     },
     "execution_count": 8,
     "metadata": {},
     "output_type": "execute_result"
    }
   ],
   "source": [
    "report_df = pd.read_parquet(f\"{INPUT_DIR}/{COMMUNITY_REPORT_TABLE}.parquet\")\n",
    "reports = read_indexer_reports(report_df, entity_df, COMMUNITY_LEVEL)\n",
    "\n",
    "print(f\"Report records: {len(report_df)}\")\n",
    "report_df.head()"
   ]
  },
  {
   "cell_type": "markdown",
   "metadata": {},
   "source": [
    "## Read text units"
   ]
  },
  {
   "cell_type": "code",
   "execution_count": 9,
   "metadata": {},
   "outputs": [
    {
     "name": "stdout",
     "output_type": "stream",
     "text": [
      "Text unit records: 3\n"
     ]
    },
    {
     "data": {
      "text/html": [
       "<div>\n",
       "<style scoped>\n",
       "    .dataframe tbody tr th:only-of-type {\n",
       "        vertical-align: middle;\n",
       "    }\n",
       "\n",
       "    .dataframe tbody tr th {\n",
       "        vertical-align: top;\n",
       "    }\n",
       "\n",
       "    .dataframe thead th {\n",
       "        text-align: right;\n",
       "    }\n",
       "</style>\n",
       "<table border=\"1\" class=\"dataframe\">\n",
       "  <thead>\n",
       "    <tr style=\"text-align: right;\">\n",
       "      <th></th>\n",
       "      <th>id</th>\n",
       "      <th>text</th>\n",
       "      <th>n_tokens</th>\n",
       "      <th>document_ids</th>\n",
       "      <th>entity_ids</th>\n",
       "      <th>relationship_ids</th>\n",
       "    </tr>\n",
       "  </thead>\n",
       "  <tbody>\n",
       "    <tr>\n",
       "      <th>0</th>\n",
       "      <td>5211048d327058bc6a44c679ae895263</td>\n",
       "      <td>(define (domain sokoban)\\n\\t(:requirements :st...</td>\n",
       "      <td>1200</td>\n",
       "      <td>[2e348e3a4352ddebb8cfd4e189d93a4f]</td>\n",
       "      <td>[b45241d70f0e43fca764df95b2b81f77, 4119fd06010...</td>\n",
       "      <td>[17ed1d92075643579a712cc6c29e8ddb, 3ce7c210a21...</td>\n",
       "    </tr>\n",
       "    <tr>\n",
       "      <th>1</th>\n",
       "      <td>47429b83e588f06c43d4cc792a75379f</td>\n",
       "      <td>\\t(:action pushUp\\n\\t\\t:parameters (?sokoban ?...</td>\n",
       "      <td>1200</td>\n",
       "      <td>[2e348e3a4352ddebb8cfd4e189d93a4f]</td>\n",
       "      <td>[b45241d70f0e43fca764df95b2b81f77, 4119fd06010...</td>\n",
       "      <td>[f1c6eed066f24cbdb376b910fce29ed4, 83a6cb03df6...</td>\n",
       "    </tr>\n",
       "    <tr>\n",
       "      <th>2</th>\n",
       "      <td>7e7d1504bd08a8b76fdc1586682a1c4b</td>\n",
       "      <td>l10)\\n\\t\\t   (at sokoban2 l16)\\n\\t\\t   (at cr...</td>\n",
       "      <td>125</td>\n",
       "      <td>[2e348e3a4352ddebb8cfd4e189d93a4f]</td>\n",
       "      <td>[1943f245ee4243bdbfbd2fd619ae824a, 273daeec8ca...</td>\n",
       "      <td>[fc01e9baa80e417c9206f941bb279407, 7c49f2710e8...</td>\n",
       "    </tr>\n",
       "  </tbody>\n",
       "</table>\n",
       "</div>"
      ],
      "text/plain": [
       "                                 id  \\\n",
       "0  5211048d327058bc6a44c679ae895263   \n",
       "1  47429b83e588f06c43d4cc792a75379f   \n",
       "2  7e7d1504bd08a8b76fdc1586682a1c4b   \n",
       "\n",
       "                                                text  n_tokens  \\\n",
       "0  (define (domain sokoban)\\n\\t(:requirements :st...      1200   \n",
       "1  \\t(:action pushUp\\n\\t\\t:parameters (?sokoban ?...      1200   \n",
       "2   l10)\\n\\t\\t   (at sokoban2 l16)\\n\\t\\t   (at cr...       125   \n",
       "\n",
       "                         document_ids  \\\n",
       "0  [2e348e3a4352ddebb8cfd4e189d93a4f]   \n",
       "1  [2e348e3a4352ddebb8cfd4e189d93a4f]   \n",
       "2  [2e348e3a4352ddebb8cfd4e189d93a4f]   \n",
       "\n",
       "                                          entity_ids  \\\n",
       "0  [b45241d70f0e43fca764df95b2b81f77, 4119fd06010...   \n",
       "1  [b45241d70f0e43fca764df95b2b81f77, 4119fd06010...   \n",
       "2  [1943f245ee4243bdbfbd2fd619ae824a, 273daeec8ca...   \n",
       "\n",
       "                                    relationship_ids  \n",
       "0  [17ed1d92075643579a712cc6c29e8ddb, 3ce7c210a21...  \n",
       "1  [f1c6eed066f24cbdb376b910fce29ed4, 83a6cb03df6...  \n",
       "2  [fc01e9baa80e417c9206f941bb279407, 7c49f2710e8...  "
      ]
     },
     "execution_count": 9,
     "metadata": {},
     "output_type": "execute_result"
    }
   ],
   "source": [
    "text_unit_df = pd.read_parquet(f\"{INPUT_DIR}/{TEXT_UNIT_TABLE}.parquet\")\n",
    "text_units = read_indexer_text_units(text_unit_df)\n",
    "\n",
    "print(f\"Text unit records: {len(text_unit_df)}\")\n",
    "text_unit_df.head()"
   ]
  },
  {
   "cell_type": "code",
   "execution_count": 12,
   "metadata": {},
   "outputs": [],
   "source": [
    "api_key = os.getenv(\"GRAPHRAG_API_KEY\")\n",
    "llm_model = os.getenv(\"GRAPHRAG_LLM_MODEL\")\n",
    "embedding_model = os.getenv(\"GRAPHRAG_EMBEDDING_MODEL\")\n",
    "\n",
    "llm = ChatOpenAI(\n",
    "    api_key=api_key,\n",
    "    model=llm_model,\n",
    "    api_type=OpenaiApiType.OpenAI,  # OpenaiApiType.OpenAI or OpenaiApiType.AzureOpenAI\n",
    "    max_retries=20,\n",
    ")\n",
    "\n",
    "token_encoder = tiktoken.get_encoding(\"cl100k_base\")\n",
    "\n",
    "text_embedder = OpenAIEmbedding(\n",
    "    api_key=api_key,\n",
    "    api_base=None,\n",
    "    api_type=OpenaiApiType.OpenAI,\n",
    "    model=embedding_model,\n",
    "    deployment_name=embedding_model,\n",
    "    max_retries=20,\n",
    ")"
   ]
  },
  {
   "cell_type": "markdown",
   "metadata": {},
   "source": [
    "## Create local search context builder"
   ]
  },
  {
   "cell_type": "code",
   "execution_count": 13,
   "metadata": {},
   "outputs": [],
   "source": [
    "context_builder = LocalSearchMixedContext(\n",
    "    community_reports=reports,\n",
    "    text_units=text_units,\n",
    "    entities=entities,\n",
    "    relationships=relationships,\n",
    "    entity_text_embeddings=description_embedding_store,\n",
    "    embedding_vectorstore_key=EntityVectorStoreKey.ID,  # if the vectorstore uses entity title as ids, set this to EntityVectorStoreKey.TITLE\n",
    "    text_embedder=text_embedder,\n",
    "    token_encoder=token_encoder,\n",
    ")"
   ]
  },
  {
   "cell_type": "markdown",
   "metadata": {},
   "source": [
    "## Create local search engine"
   ]
  },
  {
   "cell_type": "code",
   "execution_count": null,
   "metadata": {},
   "outputs": [],
   "source": [
    "# text_unit_prop: proportion of context window dedicated to related text units\n",
    "# community_prop: proportion of context window dedicated to community reports.\n",
    "# The remaining proportion is dedicated to entities and relationships. Sum of text_unit_prop and community_prop should be <= 1\n",
    "# conversation_history_max_turns: maximum number of turns to include in the conversation history.\n",
    "# conversation_history_user_turns_only: if True, only include user queries in the conversation history.\n",
    "# top_k_mapped_entities: number of related entities to retrieve from the entity description embedding store.\n",
    "# top_k_relationships: control the number of out-of-network relationships to pull into the context window.\n",
    "# include_entity_rank: if True, include the entity rank in the entity table in the context window. Default entity rank = node degree.\n",
    "# include_relationship_weight: if True, include the relationship weight in the context window.\n",
    "# include_community_rank: if True, include the community rank in the context window.\n",
    "# return_candidate_context: if True, return a set of dataframes containing all candidate entity/relationship/covariate records that\n",
    "# could be relevant. Note that not all of these records will be included in the context window. The \"in_context\" column in these\n",
    "# dataframes indicates whether the record is included in the context window.\n",
    "# max_tokens: maximum number of tokens to use for the context window.\n",
    "\n",
    "\n",
    "local_context_params = {\n",
    "    \"text_unit_prop\": 0.5,\n",
    "    \"community_prop\": 0.1,\n",
    "    \"conversation_history_max_turns\": 5,\n",
    "    \"conversation_history_user_turns_only\": True,\n",
    "    \"top_k_mapped_entities\": 10,\n",
    "    \"top_k_relationships\": 10,\n",
    "    \"include_entity_rank\": True,\n",
    "    \"include_relationship_weight\": True,\n",
    "    \"include_community_rank\": False,\n",
    "    \"return_candidate_context\": False,\n",
    "    \"embedding_vectorstore_key\": EntityVectorStoreKey.ID,  # set this to EntityVectorStoreKey.TITLE if the vectorstore uses entity title as ids\n",
    "    \"max_tokens\": 12_000,  # change this based on the token limit you have on your model (if you are using a model with 8k limit, a good setting could be 5000)\n",
    "}\n",
    "\n",
    "llm_params = {\n",
    "    \"max_tokens\": 2_000,  # change this based on the token limit you have on your model (if you are using a model with 8k limit, a good setting could be 1000=1500)\n",
    "    \"temperature\": 0.0,\n",
    "}"
   ]
  },
  {
   "cell_type": "code",
   "execution_count": null,
   "metadata": {},
   "outputs": [],
   "source": [
    "search_engine = LocalSearch(\n",
    "    llm=llm,\n",
    "    context_builder=context_builder,\n",
    "    token_encoder=token_encoder,\n",
    "    llm_params=llm_params,\n",
    "    context_builder_params=local_context_params,\n",
    "    response_type=\"multiple paragraphs\",  # free form text describing the response type and format, can be anything, e.g. prioritized list, single paragraph, multiple paragraphs, multiple-page report\n",
    ")"
   ]
  },
  {
   "cell_type": "markdown",
   "metadata": {},
   "source": [
    "## Run local search on sample queries"
   ]
  },
  {
   "cell_type": "code",
   "execution_count": null,
   "metadata": {},
   "outputs": [],
   "source": [
    "result = await search_engine.asearch(\"Tell me about the top theme\")\n",
    "print(result.response)\n",
    "# 8.9s"
   ]
  },
  {
   "cell_type": "code",
   "execution_count": null,
   "metadata": {},
   "outputs": [],
   "source": [
    "question = \"Tell me about ADC Technology\"\n",
    "result = await search_engine.asearch(question)\n",
    "print(result.response)"
   ]
  },
  {
   "cell_type": "markdown",
   "metadata": {},
   "source": [
    "## Inspecting the context data used to generate the response"
   ]
  },
  {
   "cell_type": "code",
   "execution_count": null,
   "metadata": {},
   "outputs": [],
   "source": [
    "result.context_data[\"entities\"].head()"
   ]
  },
  {
   "cell_type": "code",
   "execution_count": null,
   "metadata": {},
   "outputs": [],
   "source": [
    "result.context_data[\"relationships\"].head()"
   ]
  },
  {
   "cell_type": "code",
   "execution_count": null,
   "metadata": {},
   "outputs": [],
   "source": [
    "result.context_data[\"reports\"].head()"
   ]
  },
  {
   "cell_type": "code",
   "execution_count": null,
   "metadata": {},
   "outputs": [],
   "source": [
    "result.context_data[\"sources\"].head()"
   ]
  },
  {
   "cell_type": "code",
   "execution_count": null,
   "metadata": {},
   "outputs": [],
   "source": [
    "if \"claims\" in result.context_data:\n",
    "    print(result.context_data[\"claims\"].head())"
   ]
  },
  {
   "cell_type": "markdown",
   "metadata": {},
   "source": [
    "## Question Generation\n",
    "This function takes a list of user queries and generates the next candidate questions."
   ]
  },
  {
   "cell_type": "code",
   "execution_count": null,
   "metadata": {},
   "outputs": [],
   "source": [
    "question_generator = LocalQuestionGen(\n",
    "    llm=llm,\n",
    "    context_builder=context_builder,\n",
    "    token_encoder=token_encoder,\n",
    "    llm_params=llm_params,\n",
    "    context_builder_params=local_context_params,\n",
    ")"
   ]
  },
  {
   "cell_type": "code",
   "execution_count": null,
   "metadata": {},
   "outputs": [],
   "source": [
    "question_history = [\n",
    "    \"Tell me about the top theme\",\n",
    "    \"What are the advantages in Delta Sigma ADC?\",\n",
    "]\n",
    "candidate_questions = await question_generator.agenerate(\n",
    "    question_history=question_history, context_data=None, question_count=5\n",
    ")\n",
    "print(candidate_questions.response)"
   ]
  }
 ],
 "metadata": {
  "kernelspec": {
   "display_name": "graphrag",
   "language": "python",
   "name": "python3"
  },
  "language_info": {
   "codemirror_mode": {
    "name": "ipython",
    "version": 3
   },
   "file_extension": ".py",
   "mimetype": "text/x-python",
   "name": "python",
   "nbconvert_exporter": "python",
   "pygments_lexer": "ipython3",
   "version": "3.11.9"
  }
 },
 "nbformat": 4,
 "nbformat_minor": 2
}
